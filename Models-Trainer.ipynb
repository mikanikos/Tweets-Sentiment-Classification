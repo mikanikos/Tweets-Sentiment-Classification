{
 "cells": [
  {
   "cell_type": "code",
   "execution_count": 1,
   "metadata": {},
   "outputs": [],
   "source": [
    "import string\n",
    "import numpy as np\n",
    "import scipy as sc\n",
    "import pandas as pd\n",
    "import pickle\n",
    "import csv\n",
    "import matplotlib.pyplot as plt\n",
    "from sklearn import *\n",
    "from sklearn.linear_model import SGDClassifier\n",
    "from sklearn.model_selection import GridSearchCV\n",
    "from sklearn.pipeline import Pipeline\n",
    "from sklearn.feature_extraction.text import *\n",
    "from sklearn.model_selection import *\n",
    "from sklearn.preprocessing import *\n",
    "from sklearn.linear_model import *\n",
    "from sklearn.ensemble import *\n",
    "from sklearn.metrics import *\n",
    "from sklearn.externals import *\n",
    "from sklearn.utils import shuffle\n",
    "from sklearn.naive_bayes import *\n",
    "import tensorflow as tf\n",
    "from tensorflow import keras\n",
    "from nltk.corpus import stopwords\n",
    "from nltk import *\n",
    "from textblob import TextBlob, Word\n",
    "import subprocess\n",
    "from tensorflow.python.keras.preprocessing import sequence\n",
    "from tensorflow.python.keras.preprocessing import text\n",
    "\n",
    "from helpers import preprocessData, getFeatures, create_csv_submission"
   ]
  },
  {
   "cell_type": "code",
   "execution_count": 2,
   "metadata": {},
   "outputs": [],
   "source": [
    "## Global Variables\n",
    "\n",
    "## Hyper-Parameters\n",
    "CLASSIFIER = \"logistic\"\n",
    "CLEAN = False ## determines if we clean the dataset using the cleaning function we have defined\n",
    "\n",
    "## File Paths\n",
    "DATA_POS = 'data/train_pos_full.txt'\n",
    "DATA_NEG = 'data/train_neg_full.txt'\n",
    "VOCAB = 'data/vocab.pkl'\n",
    "TEST = 'data/test_data.txt'\n",
    "EMBEDIINGS = 'tools/embeddings.npy'\n",
    "    \n",
    "PREDICTION_PATH = \"M%s_c%spred.csv\" % (CLASSIFIER, CLEAN)\n",
    "\n",
    "## If True, train the model on this notebook - else load model from pickle to generate predictions.\n",
    "TRAIN_MODEL = True\n",
    "\n",
    "# If True, use validation data\n",
    "USE_VALID = True"
   ]
  },
  {
   "cell_type": "markdown",
   "metadata": {},
   "source": [
    "### Data preprocessing"
   ]
  },
  {
   "cell_type": "code",
   "execution_count": 3,
   "metadata": {},
   "outputs": [],
   "source": [
    "if CLASSIFIER in [\"logistic\", \"random-forest\"]:\n",
    "    # Loading features from embeddings\n",
    "    pos_data = getFeatures(DATA_POS)\n",
    "    neg_data = getFeatures(DATA_NEG)\n",
    "    test_data = getFeatures(TEST)\n",
    "\n",
    "if CLASSIFIER in [\"svm\", \"naive-bayes\"]:    \n",
    "    # Loading data from files and convert to numpy arrays\n",
    "    pos_data = pd.read_csv(DATA_POS, header=None, delimiter=\"\\n\", names=[\"tweets\"]).tweets.values\n",
    "    neg_data = pd.read_csv(DATA_NEG, header=None, delimiter=\"\\n\", names=[\"tweets\"]).tweets.values\n",
    "    test_data = pd.read_csv(TEST, header=None, delimiter=\"\\n\", names=[\"tweets\"]).tweets.values"
   ]
  },
  {
   "cell_type": "code",
   "execution_count": 4,
   "metadata": {},
   "outputs": [],
   "source": [
    "# Prepare data before training\n",
    "train_data, train_labels = preprocessData(pos_data, neg_data)\n",
    "\n",
    "if USE_VALID:\n",
    "    ## Split training and testing data into training and validation set\n",
    "    train_data, validation_data, train_labels, validation_labels = train_test_split(train_data, train_labels)"
   ]
  },
  {
   "cell_type": "markdown",
   "metadata": {},
   "source": [
    "### Training model"
   ]
  },
  {
   "cell_type": "code",
   "execution_count": 5,
   "metadata": {
    "collapsed": true
   },
   "outputs": [
    {
     "name": "stderr",
     "output_type": "stream",
     "text": [
      "/home/mikanikos/anaconda3/envs/tf/lib/python3.6/site-packages/sklearn/linear_model/logistic.py:433: FutureWarning: Default solver will be changed to 'lbfgs' in 0.22. Specify a solver to silence this warning.\n",
      "  FutureWarning)\n"
     ]
    }
   ],
   "source": [
    "if CLASSIFIER == \"logistic\":\n",
    "    clf = LogisticRegression()\n",
    "    clf.fit(train_data, train_labels)\n",
    "    \n",
    "if CLASSIFIER == \"random-forest\":\n",
    "    clf = RandomForestClassifier(n_estimators=100)\n",
    "    clf.fit(train_data, train_labels)\n",
    "    \n",
    "if CLASSIFIER == \"svm\":\n",
    "    clf = Pipeline([('vect', CountVectorizer()), ('tfidf', TfidfTransformer()), ('clf', SGDClassifier(loss='hinge', penalty='l2', alpha=1e-3, random_state=42, max_iter=5, tol=None))])\n",
    "    clf.fit(train_data, train_labels)  \n",
    "    \n",
    "if CLASSIFIER == \"naive-bayes\":\n",
    "    clf = Pipeline([('vect', CountVectorizer()), ('tfidf', TfidfTransformer()), ('clf', MultinomialNB())])\n",
    "    clf.fit(train_data, train_labels)"
   ]
  },
  {
   "cell_type": "code",
   "execution_count": 6,
   "metadata": {
    "collapsed": true
   },
   "outputs": [
    {
     "name": "stdout",
     "output_type": "stream",
     "text": [
      "0.6069264\n"
     ]
    }
   ],
   "source": [
    "# Evaluate model\n",
    "\n",
    "if USE_VALID:\n",
    "    y_pred_val = clf.predict(validation_data)\n",
    "    print(accuracy_score(validation_labels, y_pred_val))\n",
    "\n",
    "# Generate predictions\n",
    "y_pred = clf.predict(test_data)"
   ]
  },
  {
   "cell_type": "markdown",
   "metadata": {},
   "source": [
    "### Prepare submission"
   ]
  },
  {
   "cell_type": "code",
   "execution_count": null,
   "metadata": {},
   "outputs": [],
   "source": [
    "y_pred[np.where(y_pred <= 0.5)] = 0\n",
    "y_pred[np.where(y_pred > 0.5)] = 1\n",
    "create_csv_submission(range(1,10001), y_pred, PREDICTION_PATH, False)\n",
    "print(\"Predict at\", PREDICTION_PATH)"
   ]
  },
  {
   "cell_type": "code",
   "execution_count": null,
   "metadata": {},
   "outputs": [],
   "source": []
  }
 ],
 "metadata": {
  "kernelspec": {
   "display_name": "Python 3",
   "language": "python",
   "name": "python3"
  },
  "language_info": {
   "codemirror_mode": {
    "name": "ipython",
    "version": 3
   },
   "file_extension": ".py",
   "mimetype": "text/x-python",
   "name": "python",
   "nbconvert_exporter": "python",
   "pygments_lexer": "ipython3",
   "version": "3.6.7"
  }
 },
 "nbformat": 4,
 "nbformat_minor": 2
}
